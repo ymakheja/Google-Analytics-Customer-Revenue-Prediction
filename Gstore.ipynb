{
 "cells": [
  {
   "cell_type": "code",
   "execution_count": 1,
   "metadata": {
    "_cell_guid": "b1076dfc-b9ad-4769-8c92-a6c4dae69d19",
    "_uuid": "8f2839f25d086af736a60e9eeb907d3b93b6e0e5"
   },
   "outputs": [
    {
     "name": "stdout",
     "output_type": "stream",
     "text": [
      "['train.csv', 'sample_submission.csv', 'test.csv']\n"
     ]
    }
   ],
   "source": [
    "\n",
    "import numpy as np \n",
    "import pandas as pd\n",
    "\n",
    "import os\n",
    "print(os.listdir(\"../input\"))\n"
   ]
  },
  {
   "cell_type": "code",
   "execution_count": 2,
   "metadata": {
    "_cell_guid": "79c7e3d0-c299-4dcb-8224-4455121ee9b0",
    "_uuid": "d629ff2d2480ee46fbb7e2d37f6b5fab8052498a",
    "collapsed": true
   },
   "outputs": [],
   "source": [
    "import pandas as pd\n",
    "import numpy as np\n",
    "import matplotlib.pyplot as plt\n",
    "import seaborn as sns\n",
    "from sklearn.metrics import mean_squared_error\n",
    "import gc\n",
    "import time\n",
    "from pandas.core.common import SettingWithCopyWarning\n",
    "import warnings\n",
    "import lightgbm as lgb\n",
    "from sklearn.model_selection import GroupKFold, GridSearchCV\n",
    "import json\n",
    "from pandas.io.json import json_normalize\n",
    "gc.enable()\n",
    "%matplotlib inline"
   ]
  },
  {
   "cell_type": "code",
   "execution_count": 3,
   "metadata": {
    "_uuid": "e856fac210bc7338926b45b5f85d9d31971ca575",
    "collapsed": true
   },
   "outputs": [],
   "source": [
    "def convert_json(csv_path='../input/train.csv', nrows=None):\n",
    "    json_col = ['device', 'geoNetwork', 'totals', 'trafficSource']\n",
    "    \n",
    "    df = pd.read_csv(csv_path, converters={column: json.loads for column in json_col}, dtype={'fullVisitorId': 'str'}, nrows=nrows)\n",
    "    \n",
    "    for column in json_col:\n",
    "        col_to_df = json_normalize(df[column])\n",
    "        col_to_df.columns = [f\"{column}.{subcolumn}\" for subcolumn in col_to_df.columns]\n",
    "        df = df.drop(column, axis=1).merge(col_to_df, right_index=True, left_index=True)\n",
    "    print(f\"Loaded {os.path.basename(csv_path)}. Shape: {df.shape}\")\n",
    "    return df\n"
   ]
  },
  {
   "cell_type": "code",
   "execution_count": 4,
   "metadata": {
    "_uuid": "89ea79700a67a8456fb8c93066e66d77bf75d12c"
   },
   "outputs": [
    {
     "name": "stdout",
     "output_type": "stream",
     "text": [
      "Loaded train.csv. Shape: (903653, 55)\n",
      "Loaded test.csv. Shape: (804684, 53)\n",
      "CPU times: user 4min 46s, sys: 18.8 s, total: 5min 5s\n",
      "Wall time: 5min 5s\n"
     ]
    }
   ],
   "source": [
    "%%time\n",
    "train_df = convert_json()\n",
    "test_df = convert_json(\"../input/test.csv\")\n"
   ]
  },
  {
   "cell_type": "markdown",
   "metadata": {
    "_uuid": "5187b49fdc0405ab7db9f739698bda4831f3543a"
   },
   "source": [
    "**Data Cleaning**"
   ]
  },
  {
   "cell_type": "markdown",
   "metadata": {
    "_uuid": "8b7deddf8d45ded50cfcfaa9f014365cf97caefc"
   },
   "source": [
    "**Drop the columns with non Unique values**"
   ]
  },
  {
   "cell_type": "code",
   "execution_count": 6,
   "metadata": {
    "_uuid": "11687d6a7907d434aabac2529daeded2a9d3eb65",
    "collapsed": true
   },
   "outputs": [],
   "source": [
    "cols_to_drop = [col for col in train_df.columns if train_df[col].nunique(dropna=False) == 1]\n",
    "train_df.drop(cols_to_drop, axis=1, inplace=True)\n",
    "test_df.drop([col for col in cols_to_drop if col in test_df.columns], axis=1, inplace=True)"
   ]
  },
  {
   "cell_type": "code",
   "execution_count": 7,
   "metadata": {
    "_uuid": "6c1de1cec371044bcce0406d14b9c4bde6a58454"
   },
   "outputs": [
    {
     "name": "stdout",
     "output_type": "stream",
     "text": [
      "(903653, 36)\n",
      "(804684, 34)\n"
     ]
    },
    {
     "data": {
      "text/html": [
       "<div>\n",
       "<style scoped>\n",
       "    .dataframe tbody tr th:only-of-type {\n",
       "        vertical-align: middle;\n",
       "    }\n",
       "\n",
       "    .dataframe tbody tr th {\n",
       "        vertical-align: top;\n",
       "    }\n",
       "\n",
       "    .dataframe thead th {\n",
       "        text-align: right;\n",
       "    }\n",
       "</style>\n",
       "<table border=\"1\" class=\"dataframe\">\n",
       "  <thead>\n",
       "    <tr style=\"text-align: right;\">\n",
       "      <th></th>\n",
       "      <th>channelGrouping</th>\n",
       "      <th>date</th>\n",
       "      <th>fullVisitorId</th>\n",
       "      <th>sessionId</th>\n",
       "      <th>visitId</th>\n",
       "      <th>visitNumber</th>\n",
       "      <th>visitStartTime</th>\n",
       "      <th>device.browser</th>\n",
       "      <th>device.deviceCategory</th>\n",
       "      <th>device.isMobile</th>\n",
       "      <th>device.operatingSystem</th>\n",
       "      <th>geoNetwork.city</th>\n",
       "      <th>geoNetwork.continent</th>\n",
       "      <th>geoNetwork.country</th>\n",
       "      <th>geoNetwork.metro</th>\n",
       "      <th>geoNetwork.networkDomain</th>\n",
       "      <th>geoNetwork.region</th>\n",
       "      <th>geoNetwork.subContinent</th>\n",
       "      <th>totals.bounces</th>\n",
       "      <th>totals.hits</th>\n",
       "      <th>totals.newVisits</th>\n",
       "      <th>totals.pageviews</th>\n",
       "      <th>totals.transactionRevenue</th>\n",
       "      <th>trafficSource.adContent</th>\n",
       "      <th>trafficSource.adwordsClickInfo.adNetworkType</th>\n",
       "      <th>trafficSource.adwordsClickInfo.gclId</th>\n",
       "      <th>trafficSource.adwordsClickInfo.isVideoAd</th>\n",
       "      <th>trafficSource.adwordsClickInfo.page</th>\n",
       "      <th>trafficSource.adwordsClickInfo.slot</th>\n",
       "      <th>trafficSource.campaign</th>\n",
       "      <th>trafficSource.campaignCode</th>\n",
       "      <th>trafficSource.isTrueDirect</th>\n",
       "      <th>trafficSource.keyword</th>\n",
       "      <th>trafficSource.medium</th>\n",
       "      <th>trafficSource.referralPath</th>\n",
       "      <th>trafficSource.source</th>\n",
       "    </tr>\n",
       "  </thead>\n",
       "  <tbody>\n",
       "    <tr>\n",
       "      <th>0</th>\n",
       "      <td>Organic Search</td>\n",
       "      <td>20160902</td>\n",
       "      <td>1131660440785968503</td>\n",
       "      <td>1131660440785968503_1472830385</td>\n",
       "      <td>1472830385</td>\n",
       "      <td>1</td>\n",
       "      <td>1472830385</td>\n",
       "      <td>Chrome</td>\n",
       "      <td>desktop</td>\n",
       "      <td>False</td>\n",
       "      <td>Windows</td>\n",
       "      <td>Izmir</td>\n",
       "      <td>Asia</td>\n",
       "      <td>Turkey</td>\n",
       "      <td>(not set)</td>\n",
       "      <td>ttnet.com.tr</td>\n",
       "      <td>Izmir</td>\n",
       "      <td>Western Asia</td>\n",
       "      <td>1</td>\n",
       "      <td>1</td>\n",
       "      <td>1</td>\n",
       "      <td>1</td>\n",
       "      <td>NaN</td>\n",
       "      <td>NaN</td>\n",
       "      <td>NaN</td>\n",
       "      <td>NaN</td>\n",
       "      <td>NaN</td>\n",
       "      <td>NaN</td>\n",
       "      <td>NaN</td>\n",
       "      <td>(not set)</td>\n",
       "      <td>NaN</td>\n",
       "      <td>NaN</td>\n",
       "      <td>(not provided)</td>\n",
       "      <td>organic</td>\n",
       "      <td>NaN</td>\n",
       "      <td>google</td>\n",
       "    </tr>\n",
       "    <tr>\n",
       "      <th>1</th>\n",
       "      <td>Organic Search</td>\n",
       "      <td>20160902</td>\n",
       "      <td>377306020877927890</td>\n",
       "      <td>377306020877927890_1472880147</td>\n",
       "      <td>1472880147</td>\n",
       "      <td>1</td>\n",
       "      <td>1472880147</td>\n",
       "      <td>Firefox</td>\n",
       "      <td>desktop</td>\n",
       "      <td>False</td>\n",
       "      <td>Macintosh</td>\n",
       "      <td>not available in demo dataset</td>\n",
       "      <td>Oceania</td>\n",
       "      <td>Australia</td>\n",
       "      <td>not available in demo dataset</td>\n",
       "      <td>dodo.net.au</td>\n",
       "      <td>not available in demo dataset</td>\n",
       "      <td>Australasia</td>\n",
       "      <td>1</td>\n",
       "      <td>1</td>\n",
       "      <td>1</td>\n",
       "      <td>1</td>\n",
       "      <td>NaN</td>\n",
       "      <td>NaN</td>\n",
       "      <td>NaN</td>\n",
       "      <td>NaN</td>\n",
       "      <td>NaN</td>\n",
       "      <td>NaN</td>\n",
       "      <td>NaN</td>\n",
       "      <td>(not set)</td>\n",
       "      <td>NaN</td>\n",
       "      <td>NaN</td>\n",
       "      <td>(not provided)</td>\n",
       "      <td>organic</td>\n",
       "      <td>NaN</td>\n",
       "      <td>google</td>\n",
       "    </tr>\n",
       "    <tr>\n",
       "      <th>2</th>\n",
       "      <td>Organic Search</td>\n",
       "      <td>20160902</td>\n",
       "      <td>3895546263509774583</td>\n",
       "      <td>3895546263509774583_1472865386</td>\n",
       "      <td>1472865386</td>\n",
       "      <td>1</td>\n",
       "      <td>1472865386</td>\n",
       "      <td>Chrome</td>\n",
       "      <td>desktop</td>\n",
       "      <td>False</td>\n",
       "      <td>Windows</td>\n",
       "      <td>Madrid</td>\n",
       "      <td>Europe</td>\n",
       "      <td>Spain</td>\n",
       "      <td>(not set)</td>\n",
       "      <td>unknown.unknown</td>\n",
       "      <td>Community of Madrid</td>\n",
       "      <td>Southern Europe</td>\n",
       "      <td>1</td>\n",
       "      <td>1</td>\n",
       "      <td>1</td>\n",
       "      <td>1</td>\n",
       "      <td>NaN</td>\n",
       "      <td>NaN</td>\n",
       "      <td>NaN</td>\n",
       "      <td>NaN</td>\n",
       "      <td>NaN</td>\n",
       "      <td>NaN</td>\n",
       "      <td>NaN</td>\n",
       "      <td>(not set)</td>\n",
       "      <td>NaN</td>\n",
       "      <td>NaN</td>\n",
       "      <td>(not provided)</td>\n",
       "      <td>organic</td>\n",
       "      <td>NaN</td>\n",
       "      <td>google</td>\n",
       "    </tr>\n",
       "    <tr>\n",
       "      <th>3</th>\n",
       "      <td>Organic Search</td>\n",
       "      <td>20160902</td>\n",
       "      <td>4763447161404445595</td>\n",
       "      <td>4763447161404445595_1472881213</td>\n",
       "      <td>1472881213</td>\n",
       "      <td>1</td>\n",
       "      <td>1472881213</td>\n",
       "      <td>UC Browser</td>\n",
       "      <td>desktop</td>\n",
       "      <td>False</td>\n",
       "      <td>Linux</td>\n",
       "      <td>not available in demo dataset</td>\n",
       "      <td>Asia</td>\n",
       "      <td>Indonesia</td>\n",
       "      <td>not available in demo dataset</td>\n",
       "      <td>unknown.unknown</td>\n",
       "      <td>not available in demo dataset</td>\n",
       "      <td>Southeast Asia</td>\n",
       "      <td>1</td>\n",
       "      <td>1</td>\n",
       "      <td>1</td>\n",
       "      <td>1</td>\n",
       "      <td>NaN</td>\n",
       "      <td>NaN</td>\n",
       "      <td>NaN</td>\n",
       "      <td>NaN</td>\n",
       "      <td>NaN</td>\n",
       "      <td>NaN</td>\n",
       "      <td>NaN</td>\n",
       "      <td>(not set)</td>\n",
       "      <td>NaN</td>\n",
       "      <td>NaN</td>\n",
       "      <td>google + online</td>\n",
       "      <td>organic</td>\n",
       "      <td>NaN</td>\n",
       "      <td>google</td>\n",
       "    </tr>\n",
       "    <tr>\n",
       "      <th>4</th>\n",
       "      <td>Organic Search</td>\n",
       "      <td>20160902</td>\n",
       "      <td>27294437909732085</td>\n",
       "      <td>27294437909732085_1472822600</td>\n",
       "      <td>1472822600</td>\n",
       "      <td>2</td>\n",
       "      <td>1472822600</td>\n",
       "      <td>Chrome</td>\n",
       "      <td>mobile</td>\n",
       "      <td>True</td>\n",
       "      <td>Android</td>\n",
       "      <td>not available in demo dataset</td>\n",
       "      <td>Europe</td>\n",
       "      <td>United Kingdom</td>\n",
       "      <td>not available in demo dataset</td>\n",
       "      <td>unknown.unknown</td>\n",
       "      <td>not available in demo dataset</td>\n",
       "      <td>Northern Europe</td>\n",
       "      <td>1</td>\n",
       "      <td>1</td>\n",
       "      <td>NaN</td>\n",
       "      <td>1</td>\n",
       "      <td>NaN</td>\n",
       "      <td>NaN</td>\n",
       "      <td>NaN</td>\n",
       "      <td>NaN</td>\n",
       "      <td>NaN</td>\n",
       "      <td>NaN</td>\n",
       "      <td>NaN</td>\n",
       "      <td>(not set)</td>\n",
       "      <td>NaN</td>\n",
       "      <td>True</td>\n",
       "      <td>(not provided)</td>\n",
       "      <td>organic</td>\n",
       "      <td>NaN</td>\n",
       "      <td>google</td>\n",
       "    </tr>\n",
       "  </tbody>\n",
       "</table>\n",
       "</div>"
      ],
      "text/plain": [
       "  channelGrouping          ...           trafficSource.source\n",
       "0  Organic Search          ...                         google\n",
       "1  Organic Search          ...                         google\n",
       "2  Organic Search          ...                         google\n",
       "3  Organic Search          ...                         google\n",
       "4  Organic Search          ...                         google\n",
       "\n",
       "[5 rows x 36 columns]"
      ]
     },
     "execution_count": 7,
     "metadata": {},
     "output_type": "execute_result"
    }
   ],
   "source": [
    "print (train_df.shape)\n",
    "print (test_df.shape)\n",
    "train_df.head()"
   ]
  },
  {
   "cell_type": "markdown",
   "metadata": {
    "_uuid": "065d5bf1783a26648e629807eebe457e799db629"
   },
   "source": [
    "**Differnece between train and test data**"
   ]
  },
  {
   "cell_type": "code",
   "execution_count": 8,
   "metadata": {
    "_uuid": "2d8e1f29d8f6117a74e31b4c8dfb2d75633ed1b2",
    "scrolled": true
   },
   "outputs": [
    {
     "data": {
      "text/plain": [
       "{'totals.transactionRevenue', 'trafficSource.campaignCode'}"
      ]
     },
     "execution_count": 8,
     "metadata": {},
     "output_type": "execute_result"
    }
   ],
   "source": [
    "set(train_df.columns).difference(set(test_df.columns))"
   ]
  },
  {
   "cell_type": "code",
   "execution_count": 9,
   "metadata": {
    "_kg_hide-output": true,
    "_uuid": "1b03bb7acfcfe4ed70116e916b5c7a6c4f4ce2ad"
   },
   "outputs": [
    {
     "data": {
      "text/plain": [
       "(903653, 35)"
      ]
     },
     "execution_count": 9,
     "metadata": {},
     "output_type": "execute_result"
    }
   ],
   "source": [
    "train_df=train_df.drop(columns='trafficSource.campaignCode')\n",
    "train_df.shape\n"
   ]
  },
  {
   "cell_type": "markdown",
   "metadata": {
    "_uuid": "dfbd951e423e5ed7349397edc66e2f2a63c91b9a"
   },
   "source": [
    "**Imputing  NAN with 0 and Boolean values**"
   ]
  },
  {
   "cell_type": "code",
   "execution_count": 10,
   "metadata": {
    "_kg_hide-output": false,
    "_uuid": "35e4775dbe4ba539bfe05ea08e8a1d3ea6800e59"
   },
   "outputs": [
    {
     "name": "stdout",
     "output_type": "stream",
     "text": [
      "totals.bounces object ['1' nan]\n",
      "totals.newVisits object ['1' nan]\n",
      "trafficSource.adwordsClickInfo.isVideoAd object [nan False]\n",
      "trafficSource.isTrueDirect object [nan True]\n"
     ]
    }
   ],
   "source": [
    "columns_with_nan = [column for column in train_df.columns if train_df[column].nunique() == 1]\n",
    "for column in columns_with_nan:\n",
    "    if set(['not available in demo dataset']) ==  set(train_df[column].unique()): continue\n",
    "    print(column, train_df[column].dtypes, train_df[column].unique())"
   ]
  },
  {
   "cell_type": "code",
   "execution_count": 11,
   "metadata": {
    "_uuid": "6b5bc952eea3a32ac6f504665d006121a9f6dbb0",
    "collapsed": true
   },
   "outputs": [],
   "source": [
    "train_df['totals.bounces'] = train_df['totals.bounces'].fillna('0')\n",
    "test_df['totals.bounces'] = test_df['totals.bounces'].fillna('0')\n",
    "\n",
    "train_df['totals.newVisits'] = train_df['totals.newVisits'].fillna('0')\n",
    "test_df['totals.newVisits'] = test_df['totals.newVisits'].fillna('0')\n",
    "\n",
    "train_df['trafficSource.adwordsClickInfo.isVideoAd'] = train_df['trafficSource.adwordsClickInfo.isVideoAd'].fillna(True)\n",
    "test_df['trafficSource.adwordsClickInfo.isVideoAd'] = test_df['trafficSource.adwordsClickInfo.isVideoAd'].fillna(True)\n",
    "\n",
    "train_df['trafficSource.isTrueDirect'] = train_df['trafficSource.isTrueDirect'].fillna(False)\n",
    "test_df['trafficSource.isTrueDirect'] = test_df['trafficSource.isTrueDirect'].fillna(False)"
   ]
  },
  {
   "cell_type": "code",
   "execution_count": null,
   "metadata": {
    "_uuid": "f697a9f84b2c80793721232e396aedd5a8ba2845",
    "collapsed": true
   },
   "outputs": [],
   "source": []
  },
  {
   "cell_type": "markdown",
   "metadata": {
    "_uuid": "1bd69b22c3a9cb4204591a9df94128d0d231bb30"
   },
   "source": [
    "**Adding some features**"
   ]
  },
  {
   "cell_type": "code",
   "execution_count": 12,
   "metadata": {
    "_uuid": "8f33bc5a33c5f31bf9656284dfdbe452ceb95486"
   },
   "outputs": [
    {
     "name": "stderr",
     "output_type": "stream",
     "text": [
      "/opt/conda/lib/python3.6/site-packages/ipykernel_launcher.py:2: FutureWarning: Sorting because non-concatenation axis is not aligned. A future version\n",
      "of pandas will change to not sort by default.\n",
      "\n",
      "To accept the future behavior, pass 'sort=False'.\n",
      "\n",
      "To retain the current behavior and silence the warning, pass 'sort=True'.\n",
      "\n",
      "  \n"
     ]
    },
    {
     "data": {
      "text/plain": [
       "(1708337, 35)"
      ]
     },
     "execution_count": 12,
     "metadata": {},
     "output_type": "execute_result"
    }
   ],
   "source": [
    "trn_len = train_df.shape[0]\n",
    "mix_df = pd.concat([train_df, test_df])\n",
    "mix_df.shape"
   ]
  },
  {
   "cell_type": "code",
   "execution_count": 13,
   "metadata": {
    "_uuid": "97aa689253a972fcae3f476234d9ebe6289999d1",
    "collapsed": true
   },
   "outputs": [],
   "source": [
    "#VisitId and visitStartTime seem to have same values so adding a feature with their differnce makes some sense\n",
    "mix_df['diff_visitId_time'] = mix_df['visitId'] - mix_df['visitStartTime']\n",
    "mix_df['diff_visitId_time'] = (mix_df['diff_visitId_time'] != 0).astype(int)\n",
    "del mix_df['visitId']"
   ]
  },
  {
   "cell_type": "code",
   "execution_count": 14,
   "metadata": {
    "_uuid": "9d13fb68dc8d9b68ad2f80605c0cbdd6772d0242",
    "collapsed": true
   },
   "outputs": [],
   "source": [
    "#SessionIds are just random numbers hence we can just delete them\n",
    "del mix_df['sessionId']"
   ]
  },
  {
   "cell_type": "code",
   "execution_count": 15,
   "metadata": {
    "_uuid": "0389825c505497fee80025b8bfbaf050131051b2"
   },
   "outputs": [
    {
     "data": {
      "text/html": [
       "<div>\n",
       "<style scoped>\n",
       "    .dataframe tbody tr th:only-of-type {\n",
       "        vertical-align: middle;\n",
       "    }\n",
       "\n",
       "    .dataframe tbody tr th {\n",
       "        vertical-align: top;\n",
       "    }\n",
       "\n",
       "    .dataframe thead th {\n",
       "        text-align: right;\n",
       "    }\n",
       "</style>\n",
       "<table border=\"1\" class=\"dataframe\">\n",
       "  <thead>\n",
       "    <tr style=\"text-align: right;\">\n",
       "      <th></th>\n",
       "      <th>channelGrouping</th>\n",
       "      <th>device.browser</th>\n",
       "      <th>device.deviceCategory</th>\n",
       "      <th>device.isMobile</th>\n",
       "      <th>device.operatingSystem</th>\n",
       "      <th>fullVisitorId</th>\n",
       "      <th>geoNetwork.city</th>\n",
       "      <th>geoNetwork.continent</th>\n",
       "      <th>geoNetwork.country</th>\n",
       "      <th>geoNetwork.metro</th>\n",
       "      <th>geoNetwork.networkDomain</th>\n",
       "      <th>geoNetwork.region</th>\n",
       "      <th>geoNetwork.subContinent</th>\n",
       "      <th>totals.bounces</th>\n",
       "      <th>totals.hits</th>\n",
       "      <th>totals.newVisits</th>\n",
       "      <th>totals.pageviews</th>\n",
       "      <th>totals.transactionRevenue</th>\n",
       "      <th>trafficSource.adContent</th>\n",
       "      <th>trafficSource.adwordsClickInfo.adNetworkType</th>\n",
       "      <th>trafficSource.adwordsClickInfo.gclId</th>\n",
       "      <th>trafficSource.adwordsClickInfo.isVideoAd</th>\n",
       "      <th>trafficSource.adwordsClickInfo.page</th>\n",
       "      <th>trafficSource.adwordsClickInfo.slot</th>\n",
       "      <th>trafficSource.campaign</th>\n",
       "      <th>trafficSource.isTrueDirect</th>\n",
       "      <th>trafficSource.keyword</th>\n",
       "      <th>trafficSource.medium</th>\n",
       "      <th>trafficSource.referralPath</th>\n",
       "      <th>trafficSource.source</th>\n",
       "      <th>visitNumber</th>\n",
       "      <th>visitStartTime</th>\n",
       "      <th>diff_visitId_time</th>\n",
       "      <th>month</th>\n",
       "      <th>quarter_month</th>\n",
       "      <th>day</th>\n",
       "      <th>weekday</th>\n",
       "    </tr>\n",
       "  </thead>\n",
       "  <tbody>\n",
       "    <tr>\n",
       "      <th>0</th>\n",
       "      <td>Organic Search</td>\n",
       "      <td>Chrome</td>\n",
       "      <td>desktop</td>\n",
       "      <td>False</td>\n",
       "      <td>Windows</td>\n",
       "      <td>1131660440785968503</td>\n",
       "      <td>Izmir</td>\n",
       "      <td>Asia</td>\n",
       "      <td>Turkey</td>\n",
       "      <td>(not set)</td>\n",
       "      <td>ttnet.com.tr</td>\n",
       "      <td>Izmir</td>\n",
       "      <td>Western Asia</td>\n",
       "      <td>1</td>\n",
       "      <td>1</td>\n",
       "      <td>1</td>\n",
       "      <td>1</td>\n",
       "      <td>NaN</td>\n",
       "      <td>NaN</td>\n",
       "      <td>NaN</td>\n",
       "      <td>NaN</td>\n",
       "      <td>True</td>\n",
       "      <td>NaN</td>\n",
       "      <td>NaN</td>\n",
       "      <td>(not set)</td>\n",
       "      <td>False</td>\n",
       "      <td>(not provided)</td>\n",
       "      <td>organic</td>\n",
       "      <td>NaN</td>\n",
       "      <td>google</td>\n",
       "      <td>1</td>\n",
       "      <td>1472830385</td>\n",
       "      <td>0</td>\n",
       "      <td>9</td>\n",
       "      <td>0</td>\n",
       "      <td>2</td>\n",
       "      <td>4</td>\n",
       "    </tr>\n",
       "    <tr>\n",
       "      <th>1</th>\n",
       "      <td>Organic Search</td>\n",
       "      <td>Firefox</td>\n",
       "      <td>desktop</td>\n",
       "      <td>False</td>\n",
       "      <td>Macintosh</td>\n",
       "      <td>377306020877927890</td>\n",
       "      <td>not available in demo dataset</td>\n",
       "      <td>Oceania</td>\n",
       "      <td>Australia</td>\n",
       "      <td>not available in demo dataset</td>\n",
       "      <td>dodo.net.au</td>\n",
       "      <td>not available in demo dataset</td>\n",
       "      <td>Australasia</td>\n",
       "      <td>1</td>\n",
       "      <td>1</td>\n",
       "      <td>1</td>\n",
       "      <td>1</td>\n",
       "      <td>NaN</td>\n",
       "      <td>NaN</td>\n",
       "      <td>NaN</td>\n",
       "      <td>NaN</td>\n",
       "      <td>True</td>\n",
       "      <td>NaN</td>\n",
       "      <td>NaN</td>\n",
       "      <td>(not set)</td>\n",
       "      <td>False</td>\n",
       "      <td>(not provided)</td>\n",
       "      <td>organic</td>\n",
       "      <td>NaN</td>\n",
       "      <td>google</td>\n",
       "      <td>1</td>\n",
       "      <td>1472880147</td>\n",
       "      <td>0</td>\n",
       "      <td>9</td>\n",
       "      <td>0</td>\n",
       "      <td>2</td>\n",
       "      <td>4</td>\n",
       "    </tr>\n",
       "    <tr>\n",
       "      <th>2</th>\n",
       "      <td>Organic Search</td>\n",
       "      <td>Chrome</td>\n",
       "      <td>desktop</td>\n",
       "      <td>False</td>\n",
       "      <td>Windows</td>\n",
       "      <td>3895546263509774583</td>\n",
       "      <td>Madrid</td>\n",
       "      <td>Europe</td>\n",
       "      <td>Spain</td>\n",
       "      <td>(not set)</td>\n",
       "      <td>unknown.unknown</td>\n",
       "      <td>Community of Madrid</td>\n",
       "      <td>Southern Europe</td>\n",
       "      <td>1</td>\n",
       "      <td>1</td>\n",
       "      <td>1</td>\n",
       "      <td>1</td>\n",
       "      <td>NaN</td>\n",
       "      <td>NaN</td>\n",
       "      <td>NaN</td>\n",
       "      <td>NaN</td>\n",
       "      <td>True</td>\n",
       "      <td>NaN</td>\n",
       "      <td>NaN</td>\n",
       "      <td>(not set)</td>\n",
       "      <td>False</td>\n",
       "      <td>(not provided)</td>\n",
       "      <td>organic</td>\n",
       "      <td>NaN</td>\n",
       "      <td>google</td>\n",
       "      <td>1</td>\n",
       "      <td>1472865386</td>\n",
       "      <td>0</td>\n",
       "      <td>9</td>\n",
       "      <td>0</td>\n",
       "      <td>2</td>\n",
       "      <td>4</td>\n",
       "    </tr>\n",
       "    <tr>\n",
       "      <th>3</th>\n",
       "      <td>Organic Search</td>\n",
       "      <td>UC Browser</td>\n",
       "      <td>desktop</td>\n",
       "      <td>False</td>\n",
       "      <td>Linux</td>\n",
       "      <td>4763447161404445595</td>\n",
       "      <td>not available in demo dataset</td>\n",
       "      <td>Asia</td>\n",
       "      <td>Indonesia</td>\n",
       "      <td>not available in demo dataset</td>\n",
       "      <td>unknown.unknown</td>\n",
       "      <td>not available in demo dataset</td>\n",
       "      <td>Southeast Asia</td>\n",
       "      <td>1</td>\n",
       "      <td>1</td>\n",
       "      <td>1</td>\n",
       "      <td>1</td>\n",
       "      <td>NaN</td>\n",
       "      <td>NaN</td>\n",
       "      <td>NaN</td>\n",
       "      <td>NaN</td>\n",
       "      <td>True</td>\n",
       "      <td>NaN</td>\n",
       "      <td>NaN</td>\n",
       "      <td>(not set)</td>\n",
       "      <td>False</td>\n",
       "      <td>google + online</td>\n",
       "      <td>organic</td>\n",
       "      <td>NaN</td>\n",
       "      <td>google</td>\n",
       "      <td>1</td>\n",
       "      <td>1472881213</td>\n",
       "      <td>0</td>\n",
       "      <td>9</td>\n",
       "      <td>0</td>\n",
       "      <td>2</td>\n",
       "      <td>4</td>\n",
       "    </tr>\n",
       "    <tr>\n",
       "      <th>4</th>\n",
       "      <td>Organic Search</td>\n",
       "      <td>Chrome</td>\n",
       "      <td>mobile</td>\n",
       "      <td>True</td>\n",
       "      <td>Android</td>\n",
       "      <td>27294437909732085</td>\n",
       "      <td>not available in demo dataset</td>\n",
       "      <td>Europe</td>\n",
       "      <td>United Kingdom</td>\n",
       "      <td>not available in demo dataset</td>\n",
       "      <td>unknown.unknown</td>\n",
       "      <td>not available in demo dataset</td>\n",
       "      <td>Northern Europe</td>\n",
       "      <td>1</td>\n",
       "      <td>1</td>\n",
       "      <td>0</td>\n",
       "      <td>1</td>\n",
       "      <td>NaN</td>\n",
       "      <td>NaN</td>\n",
       "      <td>NaN</td>\n",
       "      <td>NaN</td>\n",
       "      <td>True</td>\n",
       "      <td>NaN</td>\n",
       "      <td>NaN</td>\n",
       "      <td>(not set)</td>\n",
       "      <td>True</td>\n",
       "      <td>(not provided)</td>\n",
       "      <td>organic</td>\n",
       "      <td>NaN</td>\n",
       "      <td>google</td>\n",
       "      <td>2</td>\n",
       "      <td>1472822600</td>\n",
       "      <td>0</td>\n",
       "      <td>9</td>\n",
       "      <td>0</td>\n",
       "      <td>2</td>\n",
       "      <td>4</td>\n",
       "    </tr>\n",
       "  </tbody>\n",
       "</table>\n",
       "</div>"
      ],
      "text/plain": [
       "  channelGrouping device.browser   ...    day  weekday\n",
       "0  Organic Search         Chrome   ...      2        4\n",
       "1  Organic Search        Firefox   ...      2        4\n",
       "2  Organic Search         Chrome   ...      2        4\n",
       "3  Organic Search     UC Browser   ...      2        4\n",
       "4  Organic Search         Chrome   ...      2        4\n",
       "\n",
       "[5 rows x 37 columns]"
      ]
     },
     "execution_count": 15,
     "metadata": {},
     "output_type": "execute_result"
    }
   ],
   "source": [
    "#Adding some date features\n",
    "from datetime import datetime\n",
    "format = '%Y%m%d' \n",
    "mix_df['date_convert'] = mix_df['date'].apply(lambda x: datetime.strptime(str(x), format))\n",
    "mix_df['month'] = mix_df['date_convert'].apply(lambda x:x.month)\n",
    "mix_df['quarter_month'] = mix_df['date_convert'].apply(lambda x:x.day//8)\n",
    "mix_df['day'] = mix_df['date_convert'].apply(lambda x:x.day)\n",
    "mix_df['weekday'] = mix_df['date_convert'].apply(lambda x:x.weekday())\n",
    "\n",
    "del mix_df['date']\n",
    "del mix_df['date_convert']\n",
    "mix_df.head()"
   ]
  },
  {
   "cell_type": "code",
   "execution_count": 16,
   "metadata": {
    "_uuid": "cfb88d365bb9b11f7234a7d95c062f0cd8603af8",
    "collapsed": true
   },
   "outputs": [],
   "source": [
    "#Adding mean hits per day\n",
    "mix_df['totals.hits'] = mix_df['totals.hits'].astype(int)\n",
    "mix_df['mean_hits_per_day'] = mix_df.groupby(['day'])['totals.hits'].transform('mean')\n",
    "del  mix_df['day']"
   ]
  },
  {
   "cell_type": "code",
   "execution_count": 17,
   "metadata": {
    "_uuid": "f60bcd5a442e4627873d611fbbc1be05d474ee22",
    "collapsed": true
   },
   "outputs": [],
   "source": [
    "mix_df['visitstarttime_convert'] = mix_df['visitStartTime'].apply(\n",
    "    lambda x: time.strftime('%Y-%m-%d %H:%M:%S', time.localtime(x)))\n",
    "mix_df['visitstarttime_convert'] = pd.to_datetime(mix_df['visitstarttime_convert'])\n",
    "mix_df['visit_hour'] = mix_df['visitstarttime_convert'].apply(lambda x: x.hour)\n",
    "\n",
    "del mix_df['visitStartTime']\n",
    "del mix_df['visitstarttime_convert']"
   ]
  },
  {
   "cell_type": "code",
   "execution_count": 18,
   "metadata": {
    "_uuid": "109925a1bdaaa993a42a46c0d8eef3ce64412804",
    "collapsed": true
   },
   "outputs": [],
   "source": [
    "train_df = mix_df[:trn_len]\n",
    "test_df = mix_df[trn_len:]"
   ]
  },
  {
   "cell_type": "code",
   "execution_count": 37,
   "metadata": {
    "_uuid": "82b05b746a2cd9a19df9777ea7f2597c6f349af7"
   },
   "outputs": [
    {
     "name": "stdout",
     "output_type": "stream",
     "text": [
      "<class 'pandas.core.frame.DataFrame'>\n",
      "Int64Index: 903653 entries, 0 to 903652\n",
      "Data columns (total 37 columns):\n",
      "channelGrouping                                 903653 non-null object\n",
      "device.browser                                  903653 non-null object\n",
      "device.deviceCategory                           903653 non-null object\n",
      "device.isMobile                                 903653 non-null bool\n",
      "device.operatingSystem                          903653 non-null object\n",
      "fullVisitorId                                   903653 non-null object\n",
      "geoNetwork.city                                 903653 non-null object\n",
      "geoNetwork.continent                            903653 non-null object\n",
      "geoNetwork.country                              903653 non-null object\n",
      "geoNetwork.metro                                903653 non-null object\n",
      "geoNetwork.networkDomain                        903653 non-null object\n",
      "geoNetwork.region                               903653 non-null object\n",
      "geoNetwork.subContinent                         903653 non-null object\n",
      "totals.bounces                                  903653 non-null object\n",
      "totals.hits                                     903653 non-null int64\n",
      "totals.newVisits                                903653 non-null object\n",
      "totals.pageviews                                903553 non-null object\n",
      "totals.transactionRevenue                       11515 non-null float64\n",
      "trafficSource.adContent                         10946 non-null object\n",
      "trafficSource.adwordsClickInfo.adNetworkType    21460 non-null object\n",
      "trafficSource.adwordsClickInfo.gclId            21561 non-null object\n",
      "trafficSource.adwordsClickInfo.isVideoAd        903653 non-null bool\n",
      "trafficSource.adwordsClickInfo.page             21460 non-null object\n",
      "trafficSource.adwordsClickInfo.slot             21460 non-null object\n",
      "trafficSource.campaign                          903653 non-null object\n",
      "trafficSource.isTrueDirect                      903653 non-null bool\n",
      "trafficSource.keyword                           400724 non-null object\n",
      "trafficSource.medium                            903653 non-null object\n",
      "trafficSource.referralPath                      330941 non-null object\n",
      "trafficSource.source                            903653 non-null object\n",
      "visitNumber                                     903653 non-null int64\n",
      "diff_visitId_time                               903653 non-null int64\n",
      "month                                           903653 non-null int64\n",
      "quarter_month                                   903653 non-null int64\n",
      "weekday                                         903653 non-null int64\n",
      "mean_hits_per_day                               903653 non-null float64\n",
      "visit_hour                                      903653 non-null int64\n",
      "dtypes: bool(3), float64(2), int64(7), object(25)\n",
      "memory usage: 283.9+ MB\n"
     ]
    }
   ],
   "source": [
    "train_df.info()"
   ]
  },
  {
   "cell_type": "raw",
   "metadata": {
    "_uuid": "b6c1d36052c350a31a9b7c7e9ba9ba2f4d554d2b"
   },
   "source": []
  },
  {
   "cell_type": "markdown",
   "metadata": {
    "_uuid": "fc77044232c1f87933cfc6d6508c9e3fb3251016"
   },
   "source": [
    "**2.Visualizations**"
   ]
  },
  {
   "cell_type": "code",
   "execution_count": 64,
   "metadata": {
    "_uuid": "61e57f1cd7053899b7ee01057f43ba4d98e8491f",
    "scrolled": true
   },
   "outputs": [
    {
     "data": {
      "text/plain": [
       "<matplotlib.axes._subplots.AxesSubplot at 0x7fc3f7515b38>"
      ]
     },
     "execution_count": 64,
     "metadata": {},
     "output_type": "execute_result"
    },
    {
     "data": {
      "image/png": "[encoded data removed]",
      "text/plain": [
       "<Figure size 432x288 with 2 Axes>"
      ]
     },
     "metadata": {
      "needs_background": "light"
     },
     "output_type": "display_data"
    }
   ],
   "source": [
    "cols =train_df[['quarter_month','diff_visitId_time','mean_hits_per_day','totals.pageviews','totals.hits','totals.bounces','visitNumber','month','weekday','visit_hour']]\n",
    "cor = cols.corr()\n",
    "sns.heatmap(cor) "
   ]
  },
  {
   "cell_type": "code",
   "execution_count": 63,
   "metadata": {
    "_uuid": "b3399a823545171d9325adf652f31b1970260696"
   },
   "outputs": [
    {
     "data": {
      "application/vnd.plotly.v1+json": {
       "data": [
        {
         "labels": [
          "Organic Search",
          "Social",
          "Direct",
          "Referral",
          "Paid Search",
          "Affiliates",
          "Display",
          "(Other)"
         ],
         "type": "pie",
         "uid": "e0c48680-d6a1-11e8-991f-77a829f89d05",
         "values": [
          381561,
          226117,
          143026,
          104838,
          25326,
          16403,
          6262,
          120
         ]
        }
       ],
       "layout": {}
      },
      "text/html": [
       "<div id=\"bb6e28ea-61fe-4683-b300-0e2cc71ead97\" style=\"height: 525px; width: 100%;\" class=\"plotly-graph-div\"></div><script type=\"text/javascript\">require([\"plotly\"], function(Plotly) { window.PLOTLYENV=window.PLOTLYENV || {};window.PLOTLYENV.BASE_URL=\"https://plot.ly\";Plotly.newPlot(\"bb6e28ea-61fe-4683-b300-0e2cc71ead97\", [{\"labels\": [\"Organic Search\", \"Social\", \"Direct\", \"Referral\", \"Paid Search\", \"Affiliates\", \"Display\", \"(Other)\"], \"values\": [381561, 226117, 143026, 104838, 25326, 16403, 6262, 120], \"type\": \"pie\", \"uid\": \"e0c82042-d6a1-11e8-991f-77a829f89d05\"}], {}, {\"showLink\": true, \"linkText\": \"Export to plot.ly\"})});</script>"
      ],
      "text/vnd.plotly.v1+html": [
       "<div id=\"bb6e28ea-61fe-4683-b300-0e2cc71ead97\" style=\"height: 525px; width: 100%;\" class=\"plotly-graph-div\"></div><script type=\"text/javascript\">require([\"plotly\"], function(Plotly) { window.PLOTLYENV=window.PLOTLYENV || {};window.PLOTLYENV.BASE_URL=\"https://plot.ly\";Plotly.newPlot(\"bb6e28ea-61fe-4683-b300-0e2cc71ead97\", [{\"labels\": [\"Organic Search\", \"Social\", \"Direct\", \"Referral\", \"Paid Search\", \"Affiliates\", \"Display\", \"(Other)\"], \"values\": [381561, 226117, 143026, 104838, 25326, 16403, 6262, 120], \"type\": \"pie\", \"uid\": \"e0c82042-d6a1-11e8-991f-77a829f89d05\"}], {}, {\"showLink\": true, \"linkText\": \"Export to plot.ly\"})});</script>"
      ]
     },
     "metadata": {},
     "output_type": "display_data"
    }
   ],
   "source": [
    "agg = train_df[['channelGrouping','totals.transactionRevenue']]\n",
    "temp = agg['channelGrouping'].value_counts()\n",
    "graph = [go.Pie(labels = temp.index, values = temp.values)]\n",
    "py.iplot(graph)"
   ]
  },
  {
   "cell_type": "code",
   "execution_count": 27,
   "metadata": {
    "_uuid": "b4030a5d4693141baa73657b0079b81a4bb54cb0"
   },
   "outputs": [
    {
     "data": {
      "text/html": [
       "<script>requirejs.config({paths: { 'plotly': ['https://cdn.plot.ly/plotly-latest.min']},});if(!window.Plotly) {{require(['plotly'],function(plotly) {window.Plotly=plotly;});}}</script>"
      ],
      "text/vnd.plotly.v1+html": [
       "<script>requirejs.config({paths: { 'plotly': ['https://cdn.plot.ly/plotly-latest.min']},});if(!window.Plotly) {{require(['plotly'],function(plotly) {window.Plotly=plotly;});}}</script>"
      ]
     },
     "metadata": {},
     "output_type": "display_data"
    }
   ],
   "source": [
    "from plotly import tools\n",
    "import plotly.offline as py\n",
    "py.init_notebook_mode(connected=True)\n",
    "import plotly.graph_objs as go"
   ]
  },
  {
   "cell_type": "code",
   "execution_count": 33,
   "metadata": {
    "_uuid": "aa2b03df2fcd4f266dc6ee9865f44872148d2d1b",
    "scrolled": true
   },
   "outputs": [
    {
     "data": {
      "application/vnd.plotly.v1+json": {
       "data": [
        {
         "type": "bar",
         "uid": "0b59c668-d697-11e8-991f-77a829f89d05",
         "x": [
          "False",
          "True"
         ],
         "y": [
          664530,
          239123
         ]
        }
       ],
       "layout": {}
      },
      "text/html": [
       "<div id=\"79561a2d-779a-47c8-b476-d5842ff2e06d\" style=\"height: 525px; width: 100%;\" class=\"plotly-graph-div\"></div><script type=\"text/javascript\">require([\"plotly\"], function(Plotly) { window.PLOTLYENV=window.PLOTLYENV || {};window.PLOTLYENV.BASE_URL=\"https://plot.ly\";Plotly.newPlot(\"79561a2d-779a-47c8-b476-d5842ff2e06d\", [{\"x\": [\"False\", \"True\"], \"y\": [664530, 239123], \"type\": \"bar\", \"uid\": \"0b5cc11a-d697-11e8-991f-77a829f89d05\"}], {}, {\"showLink\": true, \"linkText\": \"Export to plot.ly\"})});</script>"
      ],
      "text/vnd.plotly.v1+html": [
       "<div id=\"79561a2d-779a-47c8-b476-d5842ff2e06d\" style=\"height: 525px; width: 100%;\" class=\"plotly-graph-div\"></div><script type=\"text/javascript\">require([\"plotly\"], function(Plotly) { window.PLOTLYENV=window.PLOTLYENV || {};window.PLOTLYENV.BASE_URL=\"https://plot.ly\";Plotly.newPlot(\"79561a2d-779a-47c8-b476-d5842ff2e06d\", [{\"x\": [\"False\", \"True\"], \"y\": [664530, 239123], \"type\": \"bar\", \"uid\": \"0b5cc11a-d697-11e8-991f-77a829f89d05\"}], {}, {\"showLink\": true, \"linkText\": \"Export to plot.ly\"})});</script>"
      ]
     },
     "metadata": {},
     "output_type": "display_data"
    }
   ],
   "source": [
    "temp = train_df['device.isMobile'].value_counts()\n",
    "chart = go.Bar(x = [\"False\",\"True\"], y = temp.values)\n",
    "py.iplot([chart])"
   ]
  },
  {
   "cell_type": "markdown",
   "metadata": {
    "_uuid": "782faa466e88d246faafa3d50a8d296add5f9e6d"
   },
   "source": [
    "**3 : Clustering Visualization**"
   ]
  },
  {
   "cell_type": "code",
   "execution_count": 61,
   "metadata": {
    "_uuid": "103fcc2d51eb4a0d8ac5e4e119be937a9884dc21",
    "scrolled": true
   },
   "outputs": [
    {
     "name": "stdout",
     "output_type": "stream",
     "text": [
      "This is the format of your plot grid:\n",
      "[ (1,1) x1,y1 ]  [ (1,2) x2,y2 ]\n",
      "\n"
     ]
    },
    {
     "data": {
      "application/vnd.plotly.v1+json": {
       "data": [
        {
         "marker": {
          "color": "#7F1BFB"
         },
         "name": "Count",
         "type": "bar",
         "uid": "aa3a2104-d69e-11e8-991f-77a829f89d05",
         "x": [
          "Chrome",
          "Safari",
          "Firefox",
          "Internet Explorer",
          "Edge",
          "Android Webview",
          "Safari (in-app)",
          "Opera Mini",
          "Opera",
          "UC Browser"
         ],
         "xaxis": "x",
         "y": [
          620364,
          182245,
          37069,
          19375,
          10205,
          7865,
          6850,
          6139,
          5643,
          2427
         ],
         "yaxis": "y"
        },
        {
         "marker": {
          "color": "#FD9970"
         },
         "name": "Mean",
         "type": "bar",
         "uid": "aa3ab4de-d69e-11e8-991f-77a829f89d05",
         "x": [
          "Firefox",
          "Chrome",
          "Edge",
          "Internet Explorer",
          "Safari",
          "Opera",
          "Amazon Silk",
          "Android Webview",
          "Safari (in-app)"
         ],
         "xaxis": "x2",
         "y": [
          467624712.04188484,
          133594606.39428185,
          111775344.8275862,
          75738990.82568808,
          67176256.41025642,
          43070000,
          29990000,
          19141666.666666668,
          12814166.666666666
         ],
         "yaxis": "y2"
        }
       ],
       "layout": {
        "annotations": [
         {
          "font": {
           "size": 16
          },
          "showarrow": false,
          "text": "Total Count",
          "x": 0.225,
          "xanchor": "center",
          "xref": "paper",
          "y": 1,
          "yanchor": "bottom",
          "yref": "paper"
         },
         {
          "font": {
           "size": 16
          },
          "showarrow": false,
          "text": "Mean Revenue",
          "x": 0.775,
          "xanchor": "center",
          "xref": "paper",
          "y": 1,
          "yanchor": "bottom",
          "yref": "paper"
         }
        ],
        "xaxis": {
         "anchor": "y",
         "domain": [
          0,
          0.45
         ]
        },
        "xaxis2": {
         "anchor": "y2",
         "domain": [
          0.55,
          1
         ]
        },
        "yaxis": {
         "anchor": "x",
         "domain": [
          0,
          1
         ]
        },
        "yaxis2": {
         "anchor": "x2",
         "domain": [
          0,
          1
         ]
        }
       }
      },
      "text/html": [
       "<div id=\"b29d2789-2d76-4a92-b8c6-eb7fa691e985\" style=\"height: 525px; width: 100%;\" class=\"plotly-graph-div\"></div><script type=\"text/javascript\">require([\"plotly\"], function(Plotly) { window.PLOTLYENV=window.PLOTLYENV || {};window.PLOTLYENV.BASE_URL=\"https://plot.ly\";Plotly.newPlot(\"b29d2789-2d76-4a92-b8c6-eb7fa691e985\", [{\"marker\": {\"color\": \"#7F1BFB\"}, \"name\": \"Count\", \"x\": [\"Chrome\", \"Safari\", \"Firefox\", \"Internet Explorer\", \"Edge\", \"Android Webview\", \"Safari (in-app)\", \"Opera Mini\", \"Opera\", \"UC Browser\"], \"y\": [620364, 182245, 37069, 19375, 10205, 7865, 6850, 6139, 5643, 2427], \"type\": \"bar\", \"uid\": \"aa3a2104-d69e-11e8-991f-77a829f89d05\", \"xaxis\": \"x\", \"yaxis\": \"y\"}, {\"marker\": {\"color\": \"#FD9970\"}, \"name\": \"Mean\", \"x\": [\"Firefox\", \"Chrome\", \"Edge\", \"Internet Explorer\", \"Safari\", \"Opera\", \"Amazon Silk\", \"Android Webview\", \"Safari (in-app)\"], \"y\": [467624712.04188484, 133594606.39428185, 111775344.8275862, 75738990.82568808, 67176256.41025642, 43070000.0, 29990000.0, 19141666.666666668, 12814166.666666666], \"type\": \"bar\", \"uid\": \"aa3ab4de-d69e-11e8-991f-77a829f89d05\", \"xaxis\": \"x2\", \"yaxis\": \"y2\"}], {\"annotations\": [{\"font\": {\"size\": 16}, \"showarrow\": false, \"text\": \"Total Count\", \"x\": 0.225, \"xanchor\": \"center\", \"xref\": \"paper\", \"y\": 1.0, \"yanchor\": \"bottom\", \"yref\": \"paper\"}, {\"font\": {\"size\": 16}, \"showarrow\": false, \"text\": \"Mean Revenue\", \"x\": 0.775, \"xanchor\": \"center\", \"xref\": \"paper\", \"y\": 1.0, \"yanchor\": \"bottom\", \"yref\": \"paper\"}], \"xaxis\": {\"anchor\": \"y\", \"domain\": [0.0, 0.45]}, \"yaxis\": {\"anchor\": \"x\", \"domain\": [0.0, 1.0]}, \"xaxis2\": {\"anchor\": \"y2\", \"domain\": [0.55, 1.0]}, \"yaxis2\": {\"anchor\": \"x2\", \"domain\": [0.0, 1.0]}}, {\"showLink\": true, \"linkText\": \"Export to plot.ly\"})});</script>"
      ],
      "text/vnd.plotly.v1+html": [
       "<div id=\"b29d2789-2d76-4a92-b8c6-eb7fa691e985\" style=\"height: 525px; width: 100%;\" class=\"plotly-graph-div\"></div><script type=\"text/javascript\">require([\"plotly\"], function(Plotly) { window.PLOTLYENV=window.PLOTLYENV || {};window.PLOTLYENV.BASE_URL=\"https://plot.ly\";Plotly.newPlot(\"b29d2789-2d76-4a92-b8c6-eb7fa691e985\", [{\"marker\": {\"color\": \"#7F1BFB\"}, \"name\": \"Count\", \"x\": [\"Chrome\", \"Safari\", \"Firefox\", \"Internet Explorer\", \"Edge\", \"Android Webview\", \"Safari (in-app)\", \"Opera Mini\", \"Opera\", \"UC Browser\"], \"y\": [620364, 182245, 37069, 19375, 10205, 7865, 6850, 6139, 5643, 2427], \"type\": \"bar\", \"uid\": \"aa3a2104-d69e-11e8-991f-77a829f89d05\", \"xaxis\": \"x\", \"yaxis\": \"y\"}, {\"marker\": {\"color\": \"#FD9970\"}, \"name\": \"Mean\", \"x\": [\"Firefox\", \"Chrome\", \"Edge\", \"Internet Explorer\", \"Safari\", \"Opera\", \"Amazon Silk\", \"Android Webview\", \"Safari (in-app)\"], \"y\": [467624712.04188484, 133594606.39428185, 111775344.8275862, 75738990.82568808, 67176256.41025642, 43070000.0, 29990000.0, 19141666.666666668, 12814166.666666666], \"type\": \"bar\", \"uid\": \"aa3ab4de-d69e-11e8-991f-77a829f89d05\", \"xaxis\": \"x2\", \"yaxis\": \"y2\"}], {\"annotations\": [{\"font\": {\"size\": 16}, \"showarrow\": false, \"text\": \"Total Count\", \"x\": 0.225, \"xanchor\": \"center\", \"xref\": \"paper\", \"y\": 1.0, \"yanchor\": \"bottom\", \"yref\": \"paper\"}, {\"font\": {\"size\": 16}, \"showarrow\": false, \"text\": \"Mean Revenue\", \"x\": 0.775, \"xanchor\": \"center\", \"xref\": \"paper\", \"y\": 1.0, \"yanchor\": \"bottom\", \"yref\": \"paper\"}], \"xaxis\": {\"anchor\": \"y\", \"domain\": [0.0, 0.45]}, \"yaxis\": {\"anchor\": \"x\", \"domain\": [0.0, 1.0]}, \"xaxis2\": {\"anchor\": \"y2\", \"domain\": [0.55, 1.0]}, \"yaxis2\": {\"anchor\": \"x2\", \"domain\": [0.0, 1.0]}}, {\"showLink\": true, \"linkText\": \"Export to plot.ly\"})});</script>"
      ]
     },
     "metadata": {},
     "output_type": "display_data"
    }
   ],
   "source": [
    "def plot_agg(col,color1,color2):\n",
    "    col_count = train_df[col].value_counts()\n",
    "    col_chart = go.Bar(x = col_count.head(10).index, y = col_count.head(10).values, name=\"Count\",marker = dict(color=color1))\n",
    "\n",
    "    col_mean = train_df[[col,'totals.transactionRevenue']][(train_df['totals.transactionRevenue'] >1)]\n",
    "    col_mean = col_mean.groupby(col)['totals.transactionRevenue'].mean().sort_values(ascending=False)\n",
    "    col_mean_graph = go.Bar(x = col_mean.head(10).index, y = col_mean.head(10).values, name=\"Mean\",marker = dict(color=color2))\n",
    "\n",
    "    fig = tools.make_subplots(rows = 1, cols = 2,subplot_titles=('Total Count','Mean Revenue'))\n",
    "    fig.append_trace(col_chart, 1,1)\n",
    "    fig.append_trace(col_mean_graph,1,2)\n",
    "    py.iplot(fig)\n",
    "plot_agg('device.browser',\"#7F1BFB\",\"#FD9970\")\n"
   ]
  },
  {
   "cell_type": "code",
   "execution_count": 59,
   "metadata": {
    "_uuid": "09032d5fe54a1649e2d25f2a76a1a472cf56666e",
    "collapsed": true
   },
   "outputs": [
    {
     "name": "stdout",
     "output_type": "stream",
     "text": [
      "This is the format of your plot grid:\n",
      "[ (1,1) x1,y1 ]  [ (1,2) x2,y2 ]\n",
      "\n"
     ]
    },
    {
     "data": {
      "application/vnd.plotly.v1+json": {
       "data": [
        {
         "marker": {
          "color": "#F481F1"
         },
         "name": "Count",
         "type": "bar",
         "uid": "968688dc-d69e-11e8-991f-77a829f89d05",
         "x": [
          "Americas",
          "Asia",
          "Europe",
          "Oceania",
          "Africa",
          "(not set)"
         ],
         "xaxis": "x",
         "y": [
          450377,
          223698,
          198311,
          15054,
          14745,
          1468
         ],
         "yaxis": "y"
        },
        {
         "marker": {
          "color": "#F9985B"
         },
         "name": "Mean",
         "type": "bar",
         "uid": "968729c2-d69e-11e8-991f-77a829f89d05",
         "x": [
          "Africa",
          "Asia",
          "Americas",
          "(not set)",
          "Oceania",
          "Europe"
         ],
         "xaxis": "x2",
         "y": [
          1085970000,
          139214720,
          133357404.94549322,
          128296666.66666667,
          128087857.14285715,
          85405443.03797469
         ],
         "yaxis": "y2"
        }
       ],
       "layout": {
        "annotations": [
         {
          "font": {
           "size": 16
          },
          "showarrow": false,
          "text": "Total Count",
          "x": 0.225,
          "xanchor": "center",
          "xref": "paper",
          "y": 1,
          "yanchor": "bottom",
          "yref": "paper"
         },
         {
          "font": {
           "size": 16
          },
          "showarrow": false,
          "text": "Mean Revenue",
          "x": 0.775,
          "xanchor": "center",
          "xref": "paper",
          "y": 1,
          "yanchor": "bottom",
          "yref": "paper"
         }
        ],
        "xaxis": {
         "anchor": "y",
         "domain": [
          0,
          0.45
         ]
        },
        "xaxis2": {
         "anchor": "y2",
         "domain": [
          0.55,
          1
         ]
        },
        "yaxis": {
         "anchor": "x",
         "domain": [
          0,
          1
         ]
        },
        "yaxis2": {
         "anchor": "x2",
         "domain": [
          0,
          1
         ]
        }
       }
      },
      "text/html": [
       "<div id=\"fc9f74c4-374d-4098-af58-917e0496e9fa\" style=\"height: 525px; width: 100%;\" class=\"plotly-graph-div\"></div><script type=\"text/javascript\">require([\"plotly\"], function(Plotly) { window.PLOTLYENV=window.PLOTLYENV || {};window.PLOTLYENV.BASE_URL=\"https://plot.ly\";Plotly.newPlot(\"fc9f74c4-374d-4098-af58-917e0496e9fa\", [{\"marker\": {\"color\": \"#F481F1\"}, \"name\": \"Count\", \"x\": [\"Americas\", \"Asia\", \"Europe\", \"Oceania\", \"Africa\", \"(not set)\"], \"y\": [450377, 223698, 198311, 15054, 14745, 1468], \"type\": \"bar\", \"uid\": \"968688dc-d69e-11e8-991f-77a829f89d05\", \"xaxis\": \"x\", \"yaxis\": \"y\"}, {\"marker\": {\"color\": \"#F9985B\"}, \"name\": \"Mean\", \"x\": [\"Africa\", \"Asia\", \"Americas\", \"(not set)\", \"Oceania\", \"Europe\"], \"y\": [1085970000.0, 139214720.0, 133357404.94549322, 128296666.66666667, 128087857.14285715, 85405443.03797469], \"type\": \"bar\", \"uid\": \"968729c2-d69e-11e8-991f-77a829f89d05\", \"xaxis\": \"x2\", \"yaxis\": \"y2\"}], {\"annotations\": [{\"font\": {\"size\": 16}, \"showarrow\": false, \"text\": \"Total Count\", \"x\": 0.225, \"xanchor\": \"center\", \"xref\": \"paper\", \"y\": 1.0, \"yanchor\": \"bottom\", \"yref\": \"paper\"}, {\"font\": {\"size\": 16}, \"showarrow\": false, \"text\": \"Mean Revenue\", \"x\": 0.775, \"xanchor\": \"center\", \"xref\": \"paper\", \"y\": 1.0, \"yanchor\": \"bottom\", \"yref\": \"paper\"}], \"xaxis\": {\"anchor\": \"y\", \"domain\": [0.0, 0.45]}, \"yaxis\": {\"anchor\": \"x\", \"domain\": [0.0, 1.0]}, \"xaxis2\": {\"anchor\": \"y2\", \"domain\": [0.55, 1.0]}, \"yaxis2\": {\"anchor\": \"x2\", \"domain\": [0.0, 1.0]}}, {\"showLink\": true, \"linkText\": \"Export to plot.ly\"})});</script>"
      ],
      "text/vnd.plotly.v1+html": [
       "<div id=\"fc9f74c4-374d-4098-af58-917e0496e9fa\" style=\"height: 525px; width: 100%;\" class=\"plotly-graph-div\"></div><script type=\"text/javascript\">require([\"plotly\"], function(Plotly) { window.PLOTLYENV=window.PLOTLYENV || {};window.PLOTLYENV.BASE_URL=\"https://plot.ly\";Plotly.newPlot(\"fc9f74c4-374d-4098-af58-917e0496e9fa\", [{\"marker\": {\"color\": \"#F481F1\"}, \"name\": \"Count\", \"x\": [\"Americas\", \"Asia\", \"Europe\", \"Oceania\", \"Africa\", \"(not set)\"], \"y\": [450377, 223698, 198311, 15054, 14745, 1468], \"type\": \"bar\", \"uid\": \"968688dc-d69e-11e8-991f-77a829f89d05\", \"xaxis\": \"x\", \"yaxis\": \"y\"}, {\"marker\": {\"color\": \"#F9985B\"}, \"name\": \"Mean\", \"x\": [\"Africa\", \"Asia\", \"Americas\", \"(not set)\", \"Oceania\", \"Europe\"], \"y\": [1085970000.0, 139214720.0, 133357404.94549322, 128296666.66666667, 128087857.14285715, 85405443.03797469], \"type\": \"bar\", \"uid\": \"968729c2-d69e-11e8-991f-77a829f89d05\", \"xaxis\": \"x2\", \"yaxis\": \"y2\"}], {\"annotations\": [{\"font\": {\"size\": 16}, \"showarrow\": false, \"text\": \"Total Count\", \"x\": 0.225, \"xanchor\": \"center\", \"xref\": \"paper\", \"y\": 1.0, \"yanchor\": \"bottom\", \"yref\": \"paper\"}, {\"font\": {\"size\": 16}, \"showarrow\": false, \"text\": \"Mean Revenue\", \"x\": 0.775, \"xanchor\": \"center\", \"xref\": \"paper\", \"y\": 1.0, \"yanchor\": \"bottom\", \"yref\": \"paper\"}], \"xaxis\": {\"anchor\": \"y\", \"domain\": [0.0, 0.45]}, \"yaxis\": {\"anchor\": \"x\", \"domain\": [0.0, 1.0]}, \"xaxis2\": {\"anchor\": \"y2\", \"domain\": [0.55, 1.0]}, \"yaxis2\": {\"anchor\": \"x2\", \"domain\": [0.0, 1.0]}}, {\"showLink\": true, \"linkText\": \"Export to plot.ly\"})});</script>"
      ]
     },
     "metadata": {},
     "output_type": "display_data"
    }
   ],
   "source": [
    "plot_agg('geoNetwork.continent',\"#F481F1\",\"#F9985B\")"
   ]
  },
  {
   "cell_type": "code",
   "execution_count": 65,
   "metadata": {
    "_uuid": "20ec23a2efc7eb9160bb5aa65cf9d5187ef63d22"
   },
   "outputs": [
    {
     "data": {
      "text/plain": [
       "(1708337, 37)"
      ]
     },
     "execution_count": 65,
     "metadata": {},
     "output_type": "execute_result"
    }
   ],
   "source": [
    "trn_len = train_df.shape[0]\n",
    "mix_df = pd.concat([train_df, test_df])\n",
    "mix_df.shape"
   ]
  },
  {
   "cell_type": "markdown",
   "metadata": {
    "_uuid": "1b10926edd33edbc851475e3dbc2042e6f6bf21c"
   },
   "source": [
    "**Using Label Encoding to convert categorial features into numerical values**"
   ]
  },
  {
   "cell_type": "code",
   "execution_count": 66,
   "metadata": {
    "_uuid": "7ff5b21fb055a4c03ba9b665445b677ebcd2b4ba",
    "collapsed": true
   },
   "outputs": [],
   "source": [
    "for col in mix_df.columns:\n",
    "    if col in ['fullVisitorId', 'month', 'quarter_month', 'weekday', 'visit_hour', 'WoY']: continue\n",
    "    if mix_df[col].dtypes == object or mix_df[col].dtypes == bool:\n",
    "        mix_df[col], indexer = pd.factorize(mix_df[col])"
   ]
  },
  {
   "cell_type": "code",
   "execution_count": 67,
   "metadata": {
    "_uuid": "b8fa44b171c6c7224e775de90b73e47b6fc735d3",
    "collapsed": true
   },
   "outputs": [],
   "source": [
    "non_categorial = [col for col in mix_df.columns if 'totals.' in col]\n",
    "non_categorial += ['visitNumber', 'mean_hits_per_day', 'fullVisitorId']\n",
    "categorical_feats =  [col for col in mix_df.columns if col not in non_categorial]"
   ]
  },
  {
   "cell_type": "code",
   "execution_count": 68,
   "metadata": {
    "_uuid": "604ea29400d27c0157f5a7ea9767e2c100c94bad",
    "collapsed": true
   },
   "outputs": [],
   "source": [
    "for col in categorical_feats:\n",
    "    mix_df[col] = mix_df[col].astype(int)"
   ]
  },
  {
   "cell_type": "code",
   "execution_count": 69,
   "metadata": {
    "_uuid": "1fa0d26cbf3a1b0c3e1e14721003a52a50174609",
    "collapsed": true
   },
   "outputs": [],
   "source": [
    "train_df = mix_df[:trn_len]\n",
    "test_df = mix_df[trn_len:]"
   ]
  },
  {
   "cell_type": "code",
   "execution_count": 72,
   "metadata": {
    "_uuid": "1767cfcd6eebf9e265806ddedab3211d9cb32d8e",
    "collapsed": true
   },
   "outputs": [],
   "source": [
    "del test_df['totals.transactionRevenue']\n"
   ]
  },
  {
   "cell_type": "code",
   "execution_count": 74,
   "metadata": {
    "_uuid": "5b517279f985cba9ad01bd2725256a08cb04c569",
    "collapsed": true
   },
   "outputs": [],
   "source": [
    "target = train_df['totals.transactionRevenue'].fillna(0).astype(float)\n",
    "target = target.apply(lambda x: np.log1p(x))\n",
    "del train_df['totals.transactionRevenue']"
   ]
  },
  {
   "cell_type": "markdown",
   "metadata": {
    "_uuid": "25c1143adff7be3bcce2bf8626dba687e46a7a2c"
   },
   "source": [
    "**4. Predict Buying Probabilities**"
   ]
  },
  {
   "cell_type": "code",
   "execution_count": 76,
   "metadata": {
    "_uuid": "510a5a1c40f6911fd2a8ea175c2f3a3f4f9086e7"
   },
   "outputs": [
    {
     "data": {
      "text/plain": [
       "array([0, 0, 0, ..., 0, 0, 0])"
      ]
     },
     "execution_count": 76,
     "metadata": {},
     "output_type": "execute_result"
    }
   ],
   "source": [
    "y_out=np.where(target>0,1,0)\n",
    "y_out"
   ]
  },
  {
   "cell_type": "code",
   "execution_count": 80,
   "metadata": {
    "_uuid": "dc57fb767684a9a9b8d386892ed90bcc2032a44b",
    "collapsed": true
   },
   "outputs": [],
   "source": [
    "from sklearn.linear_model import LogisticRegression\n",
    "lr=LogisticRegression()\n",
    "mod=lr.fit(train_df,y_out)\n",
    "pred=mod.predict_proba(test_df)\n",
    "pred=pred[:,1]\n",
    "by_visitor=pd.DataFrame({\"fullVisitorId\":test_df[\"fullVisitorId\"]})\n",
    "by_visitor[\"prob\"]=pred\n",
    "by_visitor=by_visitor.groupby(\"fullVisitorId\")[\"prob\"].sum().reset_index()\n",
    "by_visitor=by_visitor.sort_values(['prob'],ascending=False)"
   ]
  },
  {
   "cell_type": "code",
   "execution_count": 82,
   "metadata": {
    "_uuid": "6398dda8f236ceabaca82cc01b0c40fde53c7186",
    "scrolled": true
   },
   "outputs": [
    {
     "data": {
      "text/plain": [
       "21480     0348420048060754000\n",
       "284290     460252456180441002\n",
       "37026     0603203541488487946\n",
       "436043     705991343467703841\n",
       "50876     0827807801897731454\n",
       "372900     603935369785924594\n",
       "114206     185123961166899959\n",
       "34370     0559117980865655686\n",
       "76375      123908736868363882\n",
       "296982     480773587297538354\n",
       "Name: fullVisitorId, dtype: object"
      ]
     },
     "execution_count": 82,
     "metadata": {},
     "output_type": "execute_result"
    }
   ],
   "source": [
    "top_ten=by_visitor['fullVisitorId'][0:10]\n",
    "top_ten"
   ]
  },
  {
   "cell_type": "markdown",
   "metadata": {
    "_uuid": "00cd509eae730ac13a9b3b63924432e7ebe280cc"
   },
   "source": [
    "**5.**"
   ]
  },
  {
   "cell_type": "markdown",
   "metadata": {
    "_uuid": "1ecba6f7f2eb879d035cdf9e265475d20ffb9cd3"
   },
   "source": [
    "**Predict : LGBM**"
   ]
  },
  {
   "cell_type": "code",
   "execution_count": null,
   "metadata": {
    "_uuid": "a0e44cd414d935bbd69dee76bedc8cd27be9b370",
    "collapsed": true
   },
   "outputs": [],
   "source": [
    "#reference : LGBM starter code\n",
    "\n",
    "param={'learning_rate': 0.03,\n",
    "        'objective':'regression',\n",
    "        'metric':'rmse',\n",
    "        'num_leaves': 31,\n",
    "        'verbose': 1,\n",
    "        \"subsample\": 0.99,\n",
    "        \"colsample_bytree\": 0.99,\n",
    "        \"random_state\":42,\n",
    "        'max_depth': 15,\n",
    "        'lambda_l2': 0.02085548700474218,\n",
    "        'lambda_l1': 0.004107624022751344,\n",
    "        'bagging_fraction': 0.7934712636944741,\n",
    "        'feature_fraction': 0.686612409641711,\n",
    "        'min_child_samples': 21\n",
    "       }\n"
   ]
  },
  {
   "cell_type": "code",
   "execution_count": null,
   "metadata": {
    "_uuid": "77ab3d9f81f50d872ce136543604c3cc0edec646",
    "collapsed": true
   },
   "outputs": [],
   "source": [
    "# for permutation test\n",
    "\n",
    "#trn_cols = [col for col in train_df.columns if col not in ['fullVisitorId',totals.pageviews]]\n",
    "#trn_cols = [col for col in train_df.columns if col not in ['fullVisitorId',totals.hits]]\n",
    "#trn_cols = [col for col in train_df.columns if col not in ['fullVisitorId',totals.bounces]]\n",
    "#trn_cols = [col for col in train_df.columns if col not in ['fullVisitorId',trafficSource.adContent]]\n",
    "\n"
   ]
  },
  {
   "cell_type": "code",
   "execution_count": null,
   "metadata": {
    "_uuid": "e864526b9c4945fc373aad1a8f5eaddd661809ae",
    "collapsed": true
   },
   "outputs": [],
   "source": [
    "trn_cols = [col for col in train_df.columns if col not in ['fullVisitorId']]"
   ]
  },
  {
   "cell_type": "code",
   "execution_count": null,
   "metadata": {
    "_uuid": "6d36ab6cd0b49f9b6590ff1ddbdd7a9d0dc278a7",
    "collapsed": true
   },
   "outputs": [],
   "source": [
    "from sklearn.model_selection import KFold\n",
    "folds = KFold(n_splits=5, shuffle=True, random_state=15)\n",
    "out = np.zeros(len(train_df))\n",
    "predictions = np.zeros(len(test_df))\n",
    "\n",
    "features = list(train_df[trn_cols].columns)\n",
    "imp_features = pd.DataFrame()\n",
    "\n",
    "for fold_, (train_id, val_id) in enumerate(folds.split(train_df.values, target.values)):\n",
    "    trn_data = lgb.Dataset(train_df.iloc[train_id][trn_cols], label=target.iloc[train_id], categorical_feature=categorical_feats)\n",
    "    val_data = lgb.Dataset(train_df.iloc[val_id][trn_cols], label=target.iloc[val_id], categorical_feature=categorical_feats)\n",
    "    \n",
    "    num_round = 10000\n",
    "    clf = lgb.train(param, trn_data, num_round, valid_sets = [trn_data, val_data], verbose_eval=100, early_stopping_rounds = 100)\n",
    "    out[val_id] = clf.predict(train_df.iloc[val_id][trn_cols], num_iteration=clf.best_iteration)\n",
    "    \n",
    "    fold_importance_df = pd.DataFrame()\n",
    "    fold_importance_df[\"feature\"] = features\n",
    "    fold_importance_df[\"importance\"] = clf.feature_importance()\n",
    "    fold_importance_df[\"fold\"] = fold_ + 1\n",
    "    imp_features = pd.concat([imp_features, fold_importance_df], axis=0)\n",
    "    \n",
    "    predictions += clf.predict(test_df[trn_cols], num_iteration=clf.best_iteration) / folds.n_splits"
   ]
  },
  {
   "cell_type": "code",
   "execution_count": null,
   "metadata": {
    "_uuid": "4d43e83814c95251c8d5b76d0e1817db6b5c165c",
    "collapsed": true,
    "scrolled": true
   },
   "outputs": [],
   "source": [
    "print(\"CV score: {:<8.5f}\".format(mean_squared_error(out, target)**0.5))"
   ]
  },
  {
   "cell_type": "code",
   "execution_count": null,
   "metadata": {
    "_uuid": "3ba1b2cb8938d75f83d09ea42a019d798f4a6862",
    "collapsed": true
   },
   "outputs": [],
   "source": [
    "final = test_df[['fullVisitorId']].copy()\n",
    "final.loc[:, 'PredictedLogRevenue'] = np.expm1(predictions)\n",
    "by_visitor_test = final[['fullVisitorId', 'PredictedLogRevenue']].groupby('fullVisitorId').sum().reset_index()\n",
    "by_visitor_test[\"PredictedLogRevenue\"] = np.log1p(by_visitor_test[\"PredictedLogRevenue\"])\n",
    "by_visitor_test.to_csv('submit.csv',index=False)"
   ]
  },
  {
   "cell_type": "code",
   "execution_count": null,
   "metadata": {
    "_uuid": "fc317407db7eb19228e26b31d6793384cae2daa5",
    "collapsed": true
   },
   "outputs": [],
   "source": []
  },
  {
   "cell_type": "markdown",
   "metadata": {
    "_uuid": "7bc6e17d6f7a28b6af9af37b02911f85dc42c502"
   },
   "source": [
    "> **Using XGBoost : **\n",
    "**user level prediction**"
   ]
  },
  {
   "cell_type": "code",
   "execution_count": null,
   "metadata": {
    "_uuid": "3a337c19d0cd93b4b28e881a44d966db9edf15b9",
    "collapsed": true,
    "scrolled": false
   },
   "outputs": [],
   "source": [
    "#reference :Teach_LightGBM_to_Sum_Predictions\n",
    "train_df['predictions'] = np.expm1(oof)\n",
    "test_df['predictions'] = predictions"
   ]
  },
  {
   "cell_type": "code",
   "execution_count": null,
   "metadata": {
    "_uuid": "9491b5a4f94da67566dc5cee1e3e06e7e9ce64db",
    "collapsed": true
   },
   "outputs": [],
   "source": [
    "trn_data = train_df[features + ['fullVisitorId']].groupby('fullVisitorId').mean()"
   ]
  },
  {
   "cell_type": "code",
   "execution_count": null,
   "metadata": {
    "_uuid": "5f18cce7c842b0db49dcab91a4722592d634b985",
    "collapsed": true
   },
   "outputs": [],
   "source": [
    "%%time\n",
    "\n",
    "trn_pred_list = train_df[['fullVisitorId', 'predictions']].groupby('fullVisitorId')\\\n",
    "    .apply(lambda df: list(df.predictions))\\\n",
    "    .apply(lambda x: {'pred_'+str(i): pred for i, pred in enumerate(x)})"
   ]
  },
  {
   "cell_type": "code",
   "execution_count": null,
   "metadata": {
    "_uuid": "599468aa7227fe5435576594fc8f25aadb6dd4a6",
    "collapsed": true
   },
   "outputs": [],
   "source": [
    "\n",
    "trn_all_predictions = pd.DataFrame(list(trn_pred_list.values), index=trn_data.index)\n",
    "trn_feats = trn_all_predictions.columns\n",
    "trn_all_predictions['t_mean'] = np.log1p(trn_all_predictions[trn_feats].mean(axis=1))\n",
    "trn_all_predictions['t_median'] = np.log1p(trn_all_predictions[trn_feats].median(axis=1))\n",
    "trn_all_predictions['t_sum_log'] = np.log1p(trn_all_predictions[trn_feats]).sum(axis=1)\n",
    "trn_all_predictions['t_sum_act'] = np.log1p(trn_all_predictions[trn_feats].fillna(0).sum(axis=1))\n",
    "trn_all_predictions['t_nb_sess'] = trn_all_predictions[trn_feats].isnull().sum(axis=1)\n",
    "trn_all_predictions.to_csv('trn_all_predictions.csv', index=False)\n",
    "full_data = pd.concat([trn_data, trn_all_predictions], axis=1)\n",
    "del trn_data, trn_all_predictions\n",
    "gc.collect()\n",
    "full_data.shape"
   ]
  },
  {
   "cell_type": "code",
   "execution_count": null,
   "metadata": {
    "_uuid": "dad0a63f430f8b1c2dbf1d6a6ada47a87a59a2d9",
    "collapsed": true
   },
   "outputs": [],
   "source": [
    "%%time\n",
    "sub_pred_list = test_df[['fullVisitorId', 'predictions']].groupby('fullVisitorId')\\\n",
    "    .apply(lambda df: list(df.predictions))\\\n",
    "    .apply(lambda x: {'pred_'+str(i): pred for i, pred in enumerate(x)})"
   ]
  },
  {
   "cell_type": "code",
   "execution_count": null,
   "metadata": {
    "_uuid": "8f41232ce579b28c4d6045d5ed3eaa1fe0bf3e2a",
    "collapsed": true
   },
   "outputs": [],
   "source": [
    "gc.collect()"
   ]
  },
  {
   "cell_type": "code",
   "execution_count": null,
   "metadata": {
    "_uuid": "75f50c2771e4cedac3d1d7161821304a8f95c3cd",
    "collapsed": true,
    "scrolled": false
   },
   "outputs": [],
   "source": [
    "sub_data = test_df[features + ['fullVisitorId']].groupby('fullVisitorId').mean()\n",
    "sub_all_predictions = pd.DataFrame(list(sub_pred_list.values), index=sub_data.index)\n",
    "for f in trn_feats:\n",
    "    if f not in sub_all_predictions.columns:\n",
    "        sub_all_predictions[f] = np.nan\n",
    "sub_all_predictions['t_mean'] = np.log1p(sub_all_predictions[trn_feats].mean(axis=1))\n",
    "sub_all_predictions['t_median'] = np.log1p(sub_all_predictions[trn_feats].median(axis=1))\n",
    "sub_all_predictions['t_sum_log'] = np.log1p(sub_all_predictions[trn_feats]).sum(axis=1)\n",
    "sub_all_predictions['t_sum_act'] = np.log1p(sub_all_predictions[trn_feats].fillna(0).sum(axis=1))\n",
    "sub_all_predictions['t_nb_sess'] = sub_all_predictions[trn_feats].isnull().sum(axis=1)\n",
    "sub_full_data = pd.concat([sub_data, sub_all_predictions], axis=1)\n",
    "del sub_data, sub_all_predictions\n",
    "gc.collect()\n",
    "sub_full_data.shape"
   ]
  },
  {
   "cell_type": "code",
   "execution_count": null,
   "metadata": {
    "_uuid": "ea6d4ef7eedab0b612c27fca684092861daea4d4",
    "collapsed": true
   },
   "outputs": [],
   "source": [
    "train_df['target'] = np.expm1(target)\n",
    "trn_user_target = train_df[['fullVisitorId', 'target']].groupby('fullVisitorId').sum()"
   ]
  },
  {
   "cell_type": "code",
   "execution_count": null,
   "metadata": {
    "_uuid": "687dd966e0389a074a43709a20fabb22d4c1721d",
    "collapsed": true
   },
   "outputs": [],
   "source": [
    "xgb_params = {\n",
    "        'objective': 'reg:linear',\n",
    "        'booster': 'gbtree',\n",
    "        'learning_rate': 0.02,\n",
    "        'max_depth': 22,\n",
    "        'min_child_weight': 57,\n",
    "        'gamma' : 1.45,\n",
    "        'alpha': 0.0,\n",
    "        'lambda': 0.0,\n",
    "        'subsample': 0.67,\n",
    "        'colsample_bytree': 0.054,\n",
    "        'colsample_bylevel': 0.50,\n",
    "        'n_jobs': -1,\n",
    "        'random_state': 456\n",
    "    }\n",
    "params={'learning_rate': 0.03,\n",
    "        'objective':'regression',\n",
    "        'metric':'rmse',\n",
    "        'num_leaves': 31,\n",
    "        'verbose': 1,\n",
    "        \"subsample\": 0.99,\n",
    "        \"colsample_bytree\": 0.99,\n",
    "        \"random_state\":42,\n",
    "        'max_depth': 15,\n",
    "        'lambda_l2': 0.02085548700474218,\n",
    "        'lambda_l1': 0.004107624022751344,\n",
    "        'bagging_fraction': 0.7934712636944741,\n",
    "        'feature_fraction': 0.686612409641711,\n",
    "        'min_child_samples': 21\n",
    "       }\n"
   ]
  },
  {
   "cell_type": "code",
   "execution_count": null,
   "metadata": {
    "_uuid": "81782851092d1c67c2c7ea2fab0353af6ccc034d",
    "collapsed": true
   },
   "outputs": [],
   "source": [
    "def get_folds(df=None, n_splits=5):\n",
    "    \"\"\"Returns dataframe indices corresponding to Visitors Group KFold\"\"\"\n",
    "    # \n",
    "    unique_vis = np.array(sorted(df['fullVisitorId'].unique()))\n",
    "\n",
    "    # \n",
    "    folds = GroupKFold(n_splits=n_splits)\n",
    "    fold_ids = []\n",
    "    ids = np.arange(df.shape[0])\n",
    "    for trn_vis, val_vis in folds.split(X=unique_vis, y=unique_vis, groups=unique_vis):\n",
    "        fold_ids.append(\n",
    "            [\n",
    "                ids[df['fullVisitorId'].isin(unique_vis[trn_vis])],\n",
    "                ids[df['fullVisitorId'].isin(unique_vis[val_vis])]\n",
    "            ]\n",
    "        )\n",
    "\n",
    "    return fold_ids"
   ]
  },
  {
   "cell_type": "code",
   "execution_count": null,
   "metadata": {
    "_uuid": "82767ae7aeffe93c6993691a6b226a8f8a409f94",
    "collapsed": true
   },
   "outputs": [],
   "source": [
    "from xgboost import XGBRegressor\n",
    "folds = get_folds(df=full_data[['totals.pageviews']].reset_index(), n_splits=5)\n",
    "\n",
    "oof_preds = np.zeros(full_data.shape[0])\n",
    "sub_preds = np.zeros(sub_full_data.shape[0])\n",
    "vis_importances = pd.DataFrame()\n",
    "\n",
    "for fold_, (trn_, val_) in enumerate(folds):\n",
    "    trn_x, trn_y = full_data.iloc[trn_], trn_user_target['target'].iloc[trn_]\n",
    "    val_x, val_y = full_data.iloc[val_], trn_user_target['target'].iloc[val_]\n",
    "    \n",
    "    xg = XGBRegressor(**xgb_params, n_estimators=1000)\n",
    "    \n",
    "    reg = lgb.LGBMRegressor(**params,\n",
    "\n",
    "        n_estimators=1500,\n",
    "\n",
    "    )\n",
    "    \n",
    "    xg.fit(\n",
    "        trn_x, np.log1p(trn_y),\n",
    "        eval_set=[(trn_x, np.log1p(trn_y)), (val_x, np.log1p(val_y))],\n",
    "        early_stopping_rounds=50,\n",
    "        eval_metric='rmse',\n",
    "        verbose=100\n",
    "    )\n",
    "    \n",
    "    reg.fit(\n",
    "        trn_x, np.log1p(trn_y),\n",
    "        eval_set=[(trn_x, np.log1p(trn_y)), (val_x, np.log1p(val_y))],\n",
    "        eval_names=['TRAIN', 'VALID'],\n",
    "        early_stopping_rounds=50,\n",
    "        eval_metric='rmse',\n",
    "        verbose=100\n",
    "    )\n",
    "    \n",
    "    imp_df = pd.DataFrame()\n",
    "    imp_df['feature'] = trn_x.columns\n",
    "    imp_df['gain'] = reg.booster_.feature_importance(importance_type='gain')\n",
    "    \n",
    "    imp_df['fold'] = fold_ + 1\n",
    "    vis_importances = pd.concat([vis_importances, imp_df], axis=0, sort=False)\n",
    "    \n",
    "    oof_preds[val_] = reg.predict(val_x, num_iteration=reg.best_iteration_)\n",
    "    oof_preds[oof_preds < 0] = 0\n",
    "    \n",
    "    # Make sure features are in the same order\n",
    "    _preds = reg.predict(sub_full_data[full_data.columns], num_iteration=reg.best_iteration_)\n",
    "    _preds[_preds < 0] = 0\n",
    "    \n",
    "    pre = xg.predict(sub_full_data[full_data.columns])\n",
    "    pre[pre<0]=0\n",
    "    \n",
    "    sub_preds += (_preds / len(folds)) * 0.6 + (pre / len(folds)) * 0.4\n",
    "    \n",
    "mean_squared_error(np.log1p(trn_user_target['target']), oof_preds) ** .5"
   ]
  },
  {
   "cell_type": "code",
   "execution_count": null,
   "metadata": {
    "_uuid": "3dbe00ae583924f368a0b028438c6c13f28d9788",
    "collapsed": true
   },
   "outputs": [],
   "source": [
    "submission = test_df[['fullVisitorId']].copy()\n",
    "submission.loc[:, 'PredictedLogRevenue'] = np.expm1(predictions)\n",
    "grouped_test = submission[['fullVisitorId', 'PredictedLogRevenue']].groupby('fullVisitorId').sum().reset_index()\n",
    "grouped_test[\"PredictedLogRevenue\"] = np.log1p(grouped_test[\"PredictedLogRevenue\"])\n",
    "grouped_test.to_csv('submit.csv',index=False)"
   ]
  }
 ],
 "metadata": {
  "kernelspec": {
   "display_name": "Python 3",
   "language": "python",
   "name": "python3"
  },
  "language_info": {
   "codemirror_mode": {
    "name": "ipython",
    "version": 3
   },
   "file_extension": ".py",
   "mimetype": "text/x-python",
   "name": "python",
   "nbconvert_exporter": "python",
   "pygments_lexer": "ipython3",
   "version": "3.6.2"
  }
 },
 "nbformat": 4,
 "nbformat_minor": 1
}
